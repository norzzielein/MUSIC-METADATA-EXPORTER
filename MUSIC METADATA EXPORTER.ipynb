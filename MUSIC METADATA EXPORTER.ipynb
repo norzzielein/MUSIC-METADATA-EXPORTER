{
 "cells": [
  {
   "cell_type": "markdown",
   "id": "21627d48",
   "metadata": {},
   "source": [
    "<!-- PYTHON PROJECT HEADER -->\n",
    "<img src = \"IMPORT FILES/PythonProjectHeader.png\" alt = \"Python Project Header\" style = \"display: block; margin: 0 auto; max-width: 100%; width: 100%; margin-bottom: 5px\">\n",
    "\n",
    "<!-- PYTHON PROJECT ICONS -->\n",
    "<div style = \"display: flex; justify-content: center; align-items: center; width: 100%;\">\n",
    "    <div style = \"display: flex; justify-content: center; align-items: center; width: 100%; vertical-align: middle;\">\n",
    "        <!-- E-MAIL -->\n",
    "        <a href = \"mailto:norieneil_acosta@outlook.com\" title = \"E-MAIL: norieneil_acosta@outlook.com\">\n",
    "            <img src = \"IMPORT FILES/EmailIcon.png\" alt = \"Email Address\" style = \"width: 100%; margin-bottom: 0px\"></a>\n",
    "        <!-- PHONE -->\n",
    "        &nbsp;\n",
    "        <a href = \"tel:09673381501\" title = \"PHONE: 09673381501\">\n",
    "            <img src = \"IMPORT FILES/PhoneIcon.png\" alt = \"Contact Number\" style = \"width: 100%; margin-bottom: 0px\"></a>\n",
    "        <!-- LINKEDIN -->\n",
    "        &nbsp;\n",
    "        <a href = \"https://www.linkedin.com/in/norzzielein\" title = \"LINKEDIN: https://www.linkedin.com/in/norzzielein\">\n",
    "            <img src = \"IMPORT FILES/LinkedInIcon.png\" alt = \"LinkedIn Account\" style = \"width: 100%; margin-bottom: 0px\"></a>\n",
    "        <!-- GITHUB -->\n",
    "        &nbsp;\n",
    "        <a href = \"https://github.com/norzzielein\" title = \"GITHUB: https://github.com/norzzielein\">\n",
    "            <img src = \"IMPORT FILES/GitHubIcon.png\" alt = \"GitHub Account\" style = \"width: 100%; margin-bottom: 0px\"></a>\n",
    "        &nbsp;\n",
    "        <!-- FACEBOOK -->\n",
    "        <a href = \"https://www.facebook.com/norzzielein\" title = \"FACEBOOK: https://www.facebook.com/norzzielein\">\n",
    "            <img src = \"IMPORT FILES/FacebookIcon.png\" alt = \"Facebook Account\" style = \"width: 100%; margin-bottom: 0px\"></a>\n",
    "        &nbsp;\n",
    "        <!-- INSTAGRAM -->\n",
    "        <a href = \"https://www.instagram.com/norzzielein\" title = \"INSTAGRAM: https://www.instagram.com/norzzielein\">\n",
    "            <img src = \"IMPORT FILES/InstagramIcon.png\" alt = \"Instagram Account\" style = \"width: 100%; margin-bottom: 0px\"></a>\n",
    "        &nbsp;\n",
    "        <!-- TWITTER -->\n",
    "        <a href = \"https://twitter.com/norzzielein\" title = \"TWITTER: https://twitter.com/norzzielein\">\n",
    "            <img src = \"IMPORT FILES/TwitterIcon.png\" alt = \"Twitter Account\" style = \"width: 100%; margin-bottom: 0px\"></a>\n",
    "    </div>\n",
    "</div>\n",
    "<!-- PYTHON PROJECT TRAILER -->\n",
    "<img src = \"IMPORT FILES/PythonProjectTrailer.png\" alt = \"Python Project Trailer\" style = \"display: block; margin: 0 auto; max-width: 100%; width: 100%; margin-top: 0px; margin-bottom: 5px\">"
   ]
  },
  {
   "cell_type": "markdown",
   "id": "0b9fe5c4",
   "metadata": {},
   "source": [
    "<details>\n",
    "    <summary> \n",
    "        <strong style = \"cursor: pointer; background-color: #000000F2; color: #FFFFFF; font-family: Franklin Gothic Heavy; padding: 8px; border-radius: 5px; display: inline-block;\"> \n",
    "            🖥️ IMPORTING PYTHON LIBRARIES \n",
    "        </strong> \n",
    "        <br>\n",
    "    </summary>\n",
    "    <div style = \"padding: 8px; padding-left: 0px; text-align: justify;\"> \n",
    "In the initial segment of the code, critical Python libraries are imported to lay the foundation for the subsequent tasks. The <strong>os</strong> library facilitates robust file system navigation and directory management to enable seamless interaction with the underlying operating system. Moreover, the inclusion of <strong>pandas</strong> as <strong>pd</strong> expresses our deliberate choice for efficient data manipulation, particularly advantageous in handling tabular data structures inherent in music metadata. Additionally, the integration of <strong>TinyTag</strong> and <strong>MP3</strong> from <strong>mutagen.mp3</strong> is instrumental in catering the specialized needs of music metadata extraction and manipulation, particularly tailored for MP3 files. This empowers the commands with the capability to effectively access and manipulate metadata attributes inherent in MP3 files, underpinning the objective of a comprehensive metadata processing.\n",
    "    </div>\n",
    "</details>"
   ]
  },
  {
   "cell_type": "code",
   "execution_count": 1,
   "id": "1fc756a0",
   "metadata": {},
   "outputs": [],
   "source": [
    "import os\n",
    "import pandas as pd\n",
    "from tinytag import TinyTag\n",
    "from mutagen.mp3 import MP3"
   ]
  },
  {
   "cell_type": "markdown",
   "id": "ce252c94",
   "metadata": {},
   "source": [
    "<details>\n",
    "    <summary> \n",
    "        <strong style = \"cursor: pointer; background-color: #000000F2; color: #FFFFFF; font-family: Franklin Gothic Heavy; padding: 8px; border-radius: 5px; display: inline-block;\"> \n",
    "            🖥️ EXTRACTING MUSIC ALBUM ARTS \n",
    "        </strong> \n",
    "        <br>\n",
    "    </summary>\n",
    "    <div style = \"padding: 8px; padding-left: 0px; text-align: justify;\"> \n",
    "The <strong>ExtractingMusicAlbumArts</strong> function takes two parameters: <strong>FilePath</strong>, which represents the path of the music file, and <strong>Artist</strong>, which represents the artist name. The code is wrapped within a try-except block, indicating that any potential errors during execution will be caught and handled gracefully. Inside the try block, the code checks if the <strong>FilePath</strong> ends with \".mp3\", ensuring that only MP3 files are processed. If it's not an MP3 file, an error message is printed, and the function returns <strong>None</strong>. If the file is indeed an MP3, the code initializes an <strong>Audio</strong> object using the <strong>MP3</strong> class from the <strong>mutagen.mp3</strong> library, passing <strong>FilePath</strong> as the file to be processed. The code then checks if the MP3 file contains album art metadata. If the \"<strong>APIC:</strong>\" tag is present in the <strong>Audio.tags</strong>, it signifies the presence of album art. If album art is found, the code constructs the destination folders for storing the album art image. It first constructs the path for the \"<strong>EXPORT FILES</strong>\" folder using <strong>os.path.dirname(os.path.abspath(file))</strong>, which represents the directory of the current Python script. Then, it constructs the path for the \"<strong>MUSIC ALBUM ARTS</strong>\" folder inside the \"<strong>EXPORT FILES</strong>\" folder. If the \"<strong>EXPORT FILES</strong>\" folder does not exist, it is created using <strong>os.makedirs()</strong>. If the \"<strong>MUSIC ALBUM ARTS</strong>\" folder does not exist, it is likewise created using <strong>os.makedirs()</strong>. The code constructs the file path (<strong>ArtFilePath</strong>) for the album art image by concatenating the destination folder path with the artist's name and \".jpg\" extension. It then opens a new file at <strong>ArtFilePath</strong> in binary write mode (\"<strong>wb</strong>\") and writes the album art data (<strong>Audio.tags[\"APIC:\"].data</strong>) into this file. If the album art is not found in the MP3 file, an error message is printed, and the function returns <strong>None</strong>. If any exception occurs during execution, a warning message is printed along with the exception details, and the function returns <strong>None</strong>.\n",
    "    </div>\n",
    "</details>"
   ]
  },
  {
   "cell_type": "code",
   "execution_count": 2,
   "id": "eb15367e",
   "metadata": {},
   "outputs": [],
   "source": [
    "def ExtractingMusicAlbumArts(FilePath, Artist):\n",
    "    try:\n",
    "        if FilePath.endswith(\".mp3\"):\n",
    "            Audio = MP3(FilePath)\n",
    "        else:\n",
    "            print(\"ERROR: Unsupported file format. Only MP3 files are supported.\")\n",
    "            return None\n",
    "        if \"APIC:\" in Audio.tags:\n",
    "            ExportFiles = os.path.join(os.getcwd(), \"EXPORT FILES\")\n",
    "            MusicAlbumArts = os.path.join(ExportFiles, \"MUSIC ALBUM ARTS\")\n",
    "            if not os.path.exists(ExportFiles):\n",
    "                os.makedirs(ExportFiles)\n",
    "            if not os.path.exists(MusicAlbumArts):\n",
    "                os.makedirs(MusicAlbumArts)\n",
    "            ArtFilePath = os.path.join(MusicAlbumArts, f\"{Artist}.jpg\")\n",
    "            with open(ArtFilePath, \"wb\") as f:\n",
    "                f.write(Audio.tags[\"APIC:\"].data)            \n",
    "            return ArtFilePath\n",
    "        else:\n",
    "            print(f\"ERROR: Album art {os.path.basename(FilePath)} not found.\")\n",
    "            return None\n",
    "    except Exception as e:\n",
    "        print(f\"WARNING: Error extracting album art {e}.\")\n",
    "        return None"
   ]
  },
  {
   "cell_type": "markdown",
   "id": "278fe96c",
   "metadata": {},
   "source": [
    "<details>\n",
    "    <summary> \n",
    "        <strong style = \"cursor: pointer; background-color: #000000F2; color: #FFFFFF; font-family: Franklin Gothic Heavy; padding: 8px; border-radius: 5px; display: inline-block;\"> \n",
    "            🖥️ FORMATTING MUSIC LENGTH \n",
    "        </strong> \n",
    "        <br>\n",
    "    </summary>\n",
    "    <div style = \"padding: 8px; padding-left: 0px; text-align: justify;\"> \n",
    "In the <strong>FormattingMusicLength</strong> function, the input parameter <strong>Length</strong> represents the duration of a music track in seconds. The function begins by calculating the number of minutes and seconds in the track duration. This calculation is performed using integer division (<strong>//</strong>) to determine the number of whole minutes (<strong>Minutes</strong>) and the modulus operator (<strong>%</strong>) to obtain the remaining seconds (<strong>Seconds</strong>). For instance, if the input <strong>Length</strong> is 245 seconds, the calculation would result in <strong>Minutes = 4</strong> (as 245 // 60 equals 4) and <strong>Seconds = 5</strong> (as 245 % 60 equals 5). Finally, the function formats the minutes and seconds into a string representation with leading zeros for both values using the <strong>format()</strong> method. The format string <strong>\"{:02d}:{:02d}\"</strong> specifies that each value should be displayed as a two-digit integer with leading zeros if necessary. The calculated <strong>Minutes</strong> value is inserted as the first placeholder and <strong>Seconds</strong> as the second placeholder within the format string. The formatted string representing the track length in the format <strong>MM:SS</strong> is then returned as the output of the function.\n",
    "    </div>\n",
    "</details>"
   ]
  },
  {
   "cell_type": "code",
   "execution_count": 3,
   "id": "80b6e639",
   "metadata": {},
   "outputs": [],
   "source": [
    "def FormattingMusicLength(Length):\n",
    "    Minutes = int(Length // 60)\n",
    "    Seconds = int(Length % 60)\n",
    "    return \"{:02d}:{:02d}\".format(Minutes, Seconds)"
   ]
  },
  {
   "cell_type": "markdown",
   "id": "c02f7b4b",
   "metadata": {},
   "source": [
    "<details>\n",
    "    <summary> \n",
    "        <strong style = \"cursor: pointer; background-color: #000000F2; color: #FFFFFF; font-family: Franklin Gothic Heavy; padding: 8px; border-radius: 5px; display: inline-block;\"> \n",
    "            🖥️ CONVERTING MUSIC SIZE\n",
    "        </strong> \n",
    "        <br>\n",
    "    </summary>\n",
    "    <div style = \"padding: 8px; padding-left: 0px; text-align: justify;\"> \n",
    "In the <strong>ConvertingMusicSize</strong> function, the input parameter <strong>Size</strong> represents the size of a music file in bytes. The function begins by converting the file size from bytes to megabytes. This conversion is done by dividing the input <strong>Size</strong> by the product of 1024 (the number of bytes in a kilobyte) and 1024 (the number of kilobytes in a megabyte). For example, if the input <strong>Size</strong> is 3145728 bytes, the calculation would result in <strong>Megabytes = 3145728 / (1024 * 1024) = 3</strong>. Once the size is converted to megabytes, the function proceeds to format the result as a string with two decimal places using the <strong>format()</strong> method. The format specifier <strong>\".2f\"</strong> indicates that the floating-point number should be displayed with two digits after the decimal point. The calculated <strong>Megabytes</strong> value is inserted into the format string, followed by the unit \"MB\" to denote megabytes. The formatted string representing the music file size in megabytes is then returned as the output of the function.\n",
    "    </div>\n",
    "</details>"
   ]
  },
  {
   "cell_type": "code",
   "execution_count": 4,
   "id": "141736c4",
   "metadata": {},
   "outputs": [],
   "source": [
    "def ConvertingMusicSize(Size):\n",
    "    Megabytes = Size / (1024 * 1024)\n",
    "    return \"{:.2f} MB\".format(Megabytes)"
   ]
  },
  {
   "cell_type": "markdown",
   "id": "63353476",
   "metadata": {},
   "source": [
    "<details>\n",
    "    <summary> \n",
    "        <strong style = \"cursor: pointer; background-color: #000000F2; color: #FFFFFF; font-family: Franklin Gothic Heavy; padding: 8px; border-radius: 5px; display: inline-block;\"> \n",
    "            🖥️ PROCESSING MUSIC METADATA\n",
    "        </strong> \n",
    "        <br>\n",
    "    </summary>\n",
    "    <div style = \"padding: 8px; padding-left: 0px; text-align: justify;\"> \n",
    "In the <strong>ProcessingMusicMetadata</strong> function, the input parameter <strong>MusicFolderPath</strong> represents the path to the directory containing music files. The function initializes an empty dictionary called <strong>MusicMetadata</strong> to store metadata information for each music file. The keys of this dictionary represent different metadata attributes such as \"MUSIC TITLE\", \"MUSIC ALBUM\", \"MUSIC ARTIST\", \"MUSIC LENGTH\", and \"MUSIC SIZE\", each associated with an empty list as its value. The function then iterates through all files and subdirectories within the specified <strong>MusicFolderPath</strong> using the <strong>os.walk()</strong> method. For each file encountered, it checks if the file ends with the \".mp3\" extension to ensure it is an MP3 file. If the file is indeed an MP3 file, the function retrieves its full file path using <strong>os.path.join(root, file)</strong>. It then extracts metadata information from the MP3 file using the <strong>TinyTag.get()</strong> method, creating a <strong>MusicFileTag</strong> object. Next, the function retrieves specific metadata attributes such as title, album, and artist from the <strong>MusicFileTag</strong> object. The title of the music file is obtained by removing the file extension from the file name using <strong>os.path.splitext(os.path.basename(FilePath))[0]</strong>. The duration of the music file is retrieved in seconds from the <strong>MusicFileTag</strong> object, and then formatted into a human-readable format (MM:SS) using the <strong>FormattingMusicLength</strong> function. Similarly, the size of the music file in bytes is obtained using <strong>os.path.getsize(FilePath)</strong> and then converted to megabytes using the <strong>ConvertingMusicSize</strong> function. Additionally, the function calls the <strong>ExtractingMusicAlbumArts</strong> function to extract and save album artwork associated with the music file. Finally, the extracted metadata attributes are appended to the corresponding lists within the <strong>MusicMetadata</strong> dictionary. Once all files have been processed, the populated <strong>MusicMetadata</strong> dictionary containing metadata information for all MP3 files within the specified folder is returned as the output of the function.\n",
    "    </div>\n",
    "</details>"
   ]
  },
  {
   "cell_type": "code",
   "execution_count": 5,
   "id": "f5a905cd",
   "metadata": {},
   "outputs": [],
   "source": [
    "def ProcessingMusicMetadata(MusicFolderPath):\n",
    "    MusicMetadata = {\"MUSIC TITLE\": [], \"MUSIC ALBUM\": [], \"MUSIC ARTIST\": [], \"MUSIC LENGTH\": [], \"MUSIC SIZE\": []}\n",
    "    for root, dirs, files in os.walk(MusicFolderPath):\n",
    "        for file in files:\n",
    "            if file.endswith(\".mp3\"):\n",
    "                FilePath = os.path.join(root, file)\n",
    "                MusicFileTag = TinyTag.get(FilePath)\n",
    "                MusicTitle = os.path.splitext(os.path.basename(FilePath))[0]\n",
    "                MusicAlbum = MusicFileTag.album\n",
    "                MusicArtist = MusicFileTag.artist\n",
    "                MusicLength = FormattingMusicLength(MusicFileTag.duration)\n",
    "                MusicSize = ConvertingMusicSize(os.path.getsize(FilePath))\n",
    "                AlbumArtFile = ExtractingMusicAlbumArts(FilePath, MusicArtist)\n",
    "                MusicMetadata[\"MUSIC TITLE\"].append(MusicTitle)\n",
    "                MusicMetadata[\"MUSIC ALBUM\"].append(MusicAlbum)\n",
    "                MusicMetadata[\"MUSIC ARTIST\"].append(MusicArtist)\n",
    "                MusicMetadata[\"MUSIC LENGTH\"].append(MusicLength)\n",
    "                MusicMetadata[\"MUSIC SIZE\"].append(MusicSize)\n",
    "    return MusicMetadata"
   ]
  },
  {
   "cell_type": "markdown",
   "id": "1aef3a91",
   "metadata": {},
   "source": [
    "<details>\n",
    "    <summary> \n",
    "        <strong style = \"cursor: pointer; background-color: #000000F2; color: #FFFFFF; font-family: Franklin Gothic Heavy; padding: 8px; border-radius: 5px; display: inline-block;\"> \n",
    "            🖥️ EXPORTING EXCEL FILE\n",
    "        </strong> \n",
    "        <br>\n",
    "    </summary>\n",
    "    <div style = \"padding: 8px; padding-left: 0px; text-align: justify;\"> \n",
    "In the <strong>ExportingExcelFile</strong> function, the input parameters <strong>ExcelFilePath</strong> and <strong>MusicMetadata</strong> represent the file path where the Excel file will be saved and the metadata dictionary containing music information, respectively. The function is encapsulated within a try-except block, indicating that it attempts to execute the code within the try block, and if any exceptions occur during execution, they will be caught and handled within the except block. Within the try block, the function first converts the <strong>MusicMetadata</strong> dictionary into a pandas DataFrame using <strong>pd.DataFrame(MusicMetadata)</strong>. This DataFrame organizes the metadata information into a tabular format, where each row represents metadata for a specific music track, and each column represents a different attribute such as \"MUSIC TITLE\", \"MUSIC ALBUM\", etc. Once the DataFrame is constructed, the <strong>to_excel()</strong> method is invoked to export the DataFrame to an Excel file specified by the <strong>ExcelFilePath</strong>. The parameter <strong>index = False</strong> is passed to exclude the DataFrame index from being included as a column in the Excel file. If the export process completes successfully, a message \"EXECUTION: Excel file exported successfully.\" is printed to indicate successful execution. However, if an exception occurs during the execution of the code within the try block, it will be caught by the except block. The function then prints a warning message indicating the error that occurred during the export process, including details of the exception (if any) obtained using the <strong>Exception as e</strong> syntax.\n",
    "    </div>\n",
    "</details>"
   ]
  },
  {
   "cell_type": "code",
   "execution_count": 6,
   "id": "c188c008",
   "metadata": {},
   "outputs": [],
   "source": [
    "def ExportingExcelFile(ExcelFilePath, MusicMetadata):\n",
    "    try:\n",
    "        MusicDataFrame = pd.DataFrame(MusicMetadata)\n",
    "        MusicDataFrame.to_excel(ExcelFilePath, index = False)\n",
    "        print(\"EXECUTION: Excel file exported successfully.\")\n",
    "    except Exception as e:\n",
    "        print(f\"WARNING: Error exporting to Excel {e}.\")"
   ]
  },
  {
   "cell_type": "markdown",
   "id": "1b7c313a",
   "metadata": {},
   "source": [
    "<details>\n",
    "    <summary> \n",
    "        <strong style = \"cursor: pointer; background-color: #000000F2; color: #FFFFFF; font-family: Franklin Gothic Heavy; padding: 8px; border-radius: 5px; display: inline-block;\"> \n",
    "            🖥️ EXECUTING DEFINED FUNCTIONS\n",
    "        </strong> \n",
    "        <br>\n",
    "    </summary>\n",
    "    <div style = \"padding: 8px; padding-left: 0px; text-align: justify;\"> \n",
    "For the final segment of the code, the variable <strong>MusicFolderPath</strong> is assigned the path to the directory containing the music files. This path, <strong>\"C:\\Users\\Norie Neil Acosta\\Documents\\Norie Neil Acosta\\Music Soundscape\"</strong>, specifies the location of the music files to be processed. The variable <strong>ExportFolderPath</strong> is created using the <strong>os.path.join()</strong> function to concatenate the directory path of the Python script with the folder name \"EXPORT FILES\". This ensures that the path points to the directory where the Excel file will be exported. The variable <strong>ExcelFilePath</strong> is constructed by joining the <strong>ExportFolderPath</strong> with the filename \"Music Metadata.xlsx\". This specifies the complete path to the Excel file where the music metadata will be exported. The function <strong>ProcessingMusicMetadata(MusicFolderPath)</strong> is called with <strong>MusicFolderPath</strong> as its argument. This function processes the metadata of music files located in the specified directory (<strong>MusicFolderPath</strong>) and returns a dictionary containing the metadata information for each music file. The returned dictionary, <strong>MusicMetadata</strong>, stores attributes such as \"MUSIC TITLE\", \"MUSIC ALBUM\", \"MUSIC ARTIST\", \"MUSIC LENGTH\", and \"MUSIC SIZE\" for each music file. The function <strong>ExportingExcelFile(ExcelFilePath, MusicMetadata)</strong> is called with <strong>ExcelFilePath</strong> and <strong>MusicMetadata</strong> as arguments. This function exports the music metadata stored in the <strong>MusicMetadata</strong> dictionary to an Excel file specified by <strong>ExcelFilePath</strong>. The metadata is organized into a tabular format within the Excel file, enabling easy access and analysis of the music information.\n",
    "    </div>\n",
    "</details>"
   ]
  },
  {
   "cell_type": "code",
   "execution_count": 7,
   "id": "88868ac0",
   "metadata": {},
   "outputs": [
    {
     "name": "stdout",
     "output_type": "stream",
     "text": [
      "EXECUTION: Excel file exported successfully.\n"
     ]
    }
   ],
   "source": [
    "MusicFolderPath = r\"C:\\Users\\Norie Neil Acosta\\Documents\\Norie Neil Acosta\\Music Soundscape\"\n",
    "ExportFolderPath = os.path.join(os.getcwd(), \"EXPORT FILES\")\n",
    "ExcelFilePath = os.path.join(ExportFolderPath, \"MusicMetadata.xlsx\")\n",
    "MusicMetadata = ProcessingMusicMetadata(MusicFolderPath)\n",
    "ExportingExcelFile(ExcelFilePath, MusicMetadata)"
   ]
  },
  {
   "cell_type": "markdown",
   "id": "307bdc30",
   "metadata": {},
   "source": [
    "<!-- PYTHON PROJECT HEADER -->\n",
    "<img src = \"IMPORT FILES/PythonProjectFooter.png\" alt = \"Python Project Footer\" style = \"display: block; margin: 0 auto; max-width: 100%; width: 100%\">"
   ]
  }
 ],
 "metadata": {
  "kernelspec": {
   "display_name": "Python 3 (ipykernel)",
   "language": "python",
   "name": "python3"
  },
  "language_info": {
   "codemirror_mode": {
    "name": "ipython",
    "version": 3
   },
   "file_extension": ".py",
   "mimetype": "text/x-python",
   "name": "python",
   "nbconvert_exporter": "python",
   "pygments_lexer": "ipython3",
   "version": "3.9.12"
  }
 },
 "nbformat": 4,
 "nbformat_minor": 5
}
