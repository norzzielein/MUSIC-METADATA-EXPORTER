{
 "cells": [
  {
   "cell_type": "markdown",
   "id": "21627d48",
   "metadata": {},
   "source": [
    "<!-- PYTHON PROJECT HEADER -->\n",
    "<img src = \"IMPORT FILES/PROJECTHeader.png\" alt = \"Project Header\" style = \"display: block; margin: 0 auto; max-width: 100%; width: 100%; margin-bottom: 5px\">\n",
    "\n",
    "<!-- PYTHON PROJECT ICONS -->\n",
    "<div style = \"display: flex; justify-content: center; align-items: center; width: 100%\">\n",
    "    <div style = \"display: flex; justify-content: center; align-items: center; width: 100%; vertical-align: middle\">\n",
    "        <!-- E-MAIL -->\n",
    "        <a href = \"mailto:norieneil_acosta@outlook.com\" title = \"E-MAIL: norieneil_acosta@outlook.com\">\n",
    "            <img src = \"IMPORT FILES/LINKICONEmail.png\" alt = \"Email Link Icon\" style = \"width: 100%; display: block\"></a>\n",
    "        <!-- PHONE -->\n",
    "        &nbsp;\n",
    "        <a href = \"tel:09673381501\" title = \"PHONE: 09673381501\">\n",
    "            <img src = \"IMPORT FILES/LINKICONPhone.png\" alt = \"Phone Link Icon\" style = \"width: 100%; display: block\"></a>\n",
    "        <!-- LINKEDIN -->\n",
    "        &nbsp;\n",
    "        <a href = \"https://www.linkedin.com/in/norzzielein\" title = \"LINKEDIN: https://www.linkedin.com/in/norzzielein\">\n",
    "            <img src = \"IMPORT FILES/LINKICONLinkedIn.png\" alt = \"LinkedIn Link Icon\" style = \"width: 100%; display: block\"></a>\n",
    "        <!-- GITHUB -->\n",
    "        &nbsp;\n",
    "        <a href = \"https://github.com/norzzielein\" title = \"GITHUB: https://github.com/norzzielein\">\n",
    "            <img src = \"IMPORT FILES/LINKICONGitHub.png\" alt = \"GitHub Link Icon\" style = \"width: 100%; display: block\"></a>\n",
    "        &nbsp;\n",
    "        <!-- FACEBOOK -->\n",
    "        <a href = \"https://www.facebook.com/norzzielein\" title = \"FACEBOOK: https://www.facebook.com/norzzielein\">\n",
    "            <img src = \"IMPORT FILES/LINKICONFacebook.png\" alt = \"Facebook Link Icon\" style = \"width: 100%; display: block\"></a>\n",
    "        &nbsp;\n",
    "        <!-- INSTAGRAM -->\n",
    "        <a href = \"https://www.instagram.com/norzzielein\" title = \"INSTAGRAM: https://www.instagram.com/norzzielein\">\n",
    "            <img src = \"IMPORT FILES/LINKICONInstagram.png\" alt = \"Instagram Link Icon\" style = \"width: 100%; display: block\"></a>\n",
    "        &nbsp;\n",
    "        <!-- TWITTER -->\n",
    "        <a href = \"https://twitter.com/norzzielein\" title = \"TWITTER: https://twitter.com/norzzielein\">\n",
    "            <img src = \"IMPORT FILES/LINKICONTwitter.png\" alt = \"Twitter Link Icon\" style = \"width: 100%; display: block\"></a>\n",
    "    </div>\n",
    "</div>\n",
    "\n",
    "<!-- PYTHON PROJECT TRAILER -->\n",
    "<img src = \"IMPORT FILES/PROJECTTrailer.png\" alt = \"Project Trailer\" style = \"display: block; margin: 0 auto; max-width: 100%; width: 100%; margin-top: 5px; margin-bottom: 5px\">"
   ]
  },
  {
   "cell_type": "markdown",
   "id": "0b9fe5c4",
   "metadata": {},
   "source": [
    "<details>\n",
    "    <summary> \n",
    "        <strong style = \"cursor: pointer; background-color: #000000F2; color: #FFFFFF; font-family: Franklin Gothic Heavy; padding: 8px; border-radius: 8px; display: inline-block;\"> \n",
    "            🖥️ IMPORTING PYTHON LIBRARIES \n",
    "        </strong> \n",
    "        <br>\n",
    "    </summary>\n",
    "    <div style = \"padding: 8px; padding-left: 0px; text-align: justify;\"> \n",
    "In the initial segment of the code, critical Python libraries are imported to lay the foundation for the subsequent tasks. The <strong>os</strong> library facilitates robust file system navigation and directory management to enable seamless interaction with the underlying operating system. Moreover, we include <strong>textwrap</strong> for text formatting, <strong>pandas</strong> as <strong>pd</strong> for data manipulation, <strong>TinyTag</strong> for reading audio file metadata, <strong>MP3</strong> from <strong>mutagen.mp3</strong> for working with MP3 files, <strong>Fore</strong> and <strong>Style</strong> from <strong>colorama</strong> for colored output in the console, and <strong>QApplication</strong> and <strong>QFileDialog</strong> from <strong>PyQt5.QtWidgets</strong> for creating GUI components in the application. These libraries will provide ample support such as file handling, metadata extraction, data processing, and user interface development.\n",
    "    </div>\n",
    "</details>"
   ]
  },
  {
   "cell_type": "code",
   "execution_count": 1,
   "id": "1fc756a0",
   "metadata": {},
   "outputs": [],
   "source": [
    "import os\n",
    "import textwrap\n",
    "import pandas as pd\n",
    "from tinytag import TinyTag\n",
    "from mutagen.mp3 import MP3\n",
    "from colorama import Fore, Style\n",
    "from PyQt5.QtWidgets import QApplication, QFileDialog"
   ]
  },
  {
   "cell_type": "markdown",
   "id": "4c4fa13e",
   "metadata": {},
   "source": [
    "<details>\n",
    "    <summary> \n",
    "        <strong style = \"cursor: pointer; background-color: #000000F2; color: #FFFFFF; font-family: Franklin Gothic Heavy; padding: 8px; border-radius: 8px; display: inline-block;\"> \n",
    "            🖥️ STYLING PRINT MESSAGES \n",
    "        </strong> \n",
    "        <br>\n",
    "    </summary>\n",
    "    <div style = \"padding: 8px; padding-left: 0px; text-align: justify;\"> \n",
    "A function named <strong>StylingPrintMessages</strong> is defined to stylize and print messages to the console based on the specified <strong>MessageType</strong>. This function takes two parameters: <strong>MessageType</strong> indicating the type of message (e.g., \"FAILURE\", \"ERROR\", \"SUCCESS\", or \"INFO\") and <strong>Message</strong> containing the content of the message. Depending on the <strong>MessageType</strong>, the function sets the <strong>color</strong> and <strong>label</strong> variables accordingly, using <strong>Fore</strong> from <strong>colorama</strong> for text coloration. Then, it formats the message using <strong>textwrap.fill()</strong> to ensure it fits within a specified width (140 characters) with proper indentation based on the length of the label. Finally, the formatted message is printed to the console. This function helps in providing visually distinct and informative messages to the user during different stages of the program execution.\n",
    "    </div>\n",
    "</details>"
   ]
  },
  {
   "cell_type": "code",
   "execution_count": 2,
   "id": "445552ee",
   "metadata": {},
   "outputs": [],
   "source": [
    "def StylingPrintMessages(MessageType, Message):\n",
    "    if MessageType == \"FAILURE\":\n",
    "        color = Fore.LIGHTRED_EX\n",
    "        label = \"FAILURE:  \"\n",
    "    elif MessageType == \"ERROR\":\n",
    "        color = Fore.LIGHTYELLOW_EX\n",
    "        label = \"  ERROR:  \"\n",
    "    elif MessageType == \"SUCCESS\":\n",
    "        color = Fore.LIGHTGREEN_EX\n",
    "        label = \"SUCCESS:  \"\n",
    "    else:\n",
    "        color = Fore.LIGHTBLUE_EX\n",
    "        label = \"   INFO:  \"    \n",
    "    FormattedMessages = textwrap.fill(f\"{color}{Style.BRIGHT}{label}{Style.RESET_ALL}{Message}\",\n",
    "                                      width = 140, subsequent_indent = \" \" * (len(label)))\n",
    "    print(FormattedMessages)"
   ]
  },
  {
   "cell_type": "markdown",
   "id": "f6adae55",
   "metadata": {},
   "source": [
    "<details>\n",
    "    <summary> \n",
    "        <strong style = \"cursor: pointer; background-color: #000000F2; color: #FFFFFF; font-family: Franklin Gothic Heavy; padding: 8px; border-radius: 8px; display: inline-block;\"> \n",
    "            🖥️ DEFINING MUSIC FOLDER PATH\n",
    "        </strong> \n",
    "        <br>\n",
    "    </summary>\n",
    "    <div style = \"padding: 8px; padding-left: 0px; text-align: justify;\"> \n",
    "The <strong>DefiningMusicFolderPath</strong> function is defined to prompt the user to select a directory path representing the location of their music folder. It utilizes <strong>QFileDialog</strong> to display a directory selection dialog window within a QApplication instance named <strong>WindowDialog</strong>. Inside a loop, the user is prompted to select a directory path using <strong>QFileDialog.getExistingDirectory</strong>. If a directory path is selected (<strong>DirectoryPath</strong>), a success message is displayed using the <strong>StylingPrintMessages</strong> function, indicating the selected directory path. The function then returns the selected <strong>DirectoryPath</strong>. If no directory path is selected, an error message is displayed, prompting the user to provide a directory before proceeding. This function ensures that the program obtains the necessary music folder path from the user for further processing.\n",
    "    </div>\n",
    "</details>"
   ]
  },
  {
   "cell_type": "code",
   "execution_count": 3,
   "id": "409108f7",
   "metadata": {},
   "outputs": [],
   "source": [
    "def DefiningMusicFolderPath():\n",
    "    WindowDialog = QApplication([])\n",
    "    while True:\n",
    "        DirectoryPath = QFileDialog.getExistingDirectory(None, \"Music Folder Path\", \"\", QFileDialog.ShowDirsOnly)\n",
    "        if DirectoryPath:\n",
    "            StylingPrintMessages(\"SUCCESS\", f\"The directory '{DirectoryPath}' is selected as the Music Folder Path.\")\n",
    "            return DirectoryPath\n",
    "        else:\n",
    "            StylingPrintMessages(\"ERROR\", f\"No Music Folder Path selected. Please provide a directory before proceeding.\")"
   ]
  },
  {
   "cell_type": "markdown",
   "id": "ce252c94",
   "metadata": {},
   "source": [
    "<details>\n",
    "    <summary> \n",
    "        <strong style = \"cursor: pointer; background-color: #000000F2; color: #FFFFFF; font-family: Franklin Gothic Heavy; padding: 8px; border-radius: 8px; display: inline-block;\"> \n",
    "            🖥️ EXTRACTING MUSIC ALBUM ARTS \n",
    "        </strong> \n",
    "        <br>\n",
    "    </summary>\n",
    "    <div style = \"padding: 8px; padding-left: 0px; text-align: justify;\"> \n",
    "The <strong>ExtractingMusicAlbumArts</strong> function is defined to extract album art from a music file specified by <strong>FilePath</strong> for a given <strong>Artist</strong>. It begins by attempting to read the audio file using <strong>MP3</strong> from <strong>mutagen.mp3</strong>. If the audio file contains album art metadata (identified by \"APIC:\" tag), the function creates directories for storing exported files if they do not exist already. It then constructs a file path for the album art image in the \"EXPORT FILES/MUSIC ALBUM ARTS\" directory and writes the album art data to a JPG file. The function returns the path to the saved album art image. If no album art is found, an error message is displayed using the <strong>StylingPrintMessages</strong> function, and <strong>None</strong> is returned. In case of any exceptions during the process, a failure message is displayed, and <strong>None</strong> is returned. This function facilitates the extraction and export of album art images from music files.\n",
    "    </div>\n",
    "</details>"
   ]
  },
  {
   "cell_type": "code",
   "execution_count": 4,
   "id": "eb15367e",
   "metadata": {},
   "outputs": [],
   "source": [
    "def ExtractingMusicAlbumArts(FilePath, Artist):\n",
    "    try:\n",
    "        Audio = MP3(FilePath)\n",
    "        if \"APIC:\" in Audio.tags:\n",
    "            ExportFiles = os.path.join(os.getcwd(), \"EXPORT FILES\")\n",
    "            MusicAlbumArts = os.path.join(ExportFiles, \"MUSIC ALBUM ARTS\")\n",
    "            if not os.path.exists(ExportFiles):\n",
    "                os.makedirs(ExportFiles)\n",
    "            if not os.path.exists(MusicAlbumArts):\n",
    "                os.makedirs(MusicAlbumArts)\n",
    "            ArtFilePath = os.path.join(MusicAlbumArts, f\"{Artist}.jpg\")\n",
    "            with open(ArtFilePath, \"wb\") as f:\n",
    "                f.write(Audio.tags[\"APIC:\"].data)            \n",
    "            return ArtFilePath\n",
    "        else:\n",
    "            StylingPrintMessages(\"ERROR\", f\"No Music Album Art image found for '{os.path.basename(FilePath)}'.\")\n",
    "            return None\n",
    "    except Exception as e:\n",
    "        StylingPrintMessages(\"FAILURE\", f\"Extracting album art failed. {e}.\")\n",
    "        return None"
   ]
  },
  {
   "cell_type": "markdown",
   "id": "278fe96c",
   "metadata": {},
   "source": [
    "<details>\n",
    "    <summary> \n",
    "        <strong style = \"cursor: pointer; background-color: #000000F2; color: #FFFFFF; font-family: Franklin Gothic Heavy; padding: 8px; border-radius: 8px; display: inline-block;\"> \n",
    "            🖥️ FORMATTING MUSIC LENGTH \n",
    "        </strong> \n",
    "        <br>\n",
    "    </summary>\n",
    "    <div style = \"padding: 8px; padding-left: 0px; text-align: justify;\"> \n",
    "The <strong>FormattingMusicLength</strong> function is defined to convert the length of a music track given in seconds (<strong>Length</strong>) into a formatted string representation of minutes and seconds (MM\n",
    "format). The function first calculates the number of minutes and seconds in the track length by dividing the total length by 60 to get the minutes and then taking the remainder by 60 to get the seconds. These values are then converted to integers. Finally, the function returns a formatted string using the <strong>format()</strong> method with leading zeros for minutes and seconds to ensure a consistent format. This function aids in presenting music track lengths in a human-readable format.\n",
    "    </div>\n",
    "</details>"
   ]
  },
  {
   "cell_type": "code",
   "execution_count": 5,
   "id": "80b6e639",
   "metadata": {},
   "outputs": [],
   "source": [
    "def FormattingMusicLength(Length):\n",
    "    Minutes = int(Length // 60)\n",
    "    Seconds = int(Length % 60)\n",
    "    return \"{:02d}:{:02d}\".format(Minutes, Seconds)"
   ]
  },
  {
   "cell_type": "markdown",
   "id": "c02f7b4b",
   "metadata": {},
   "source": [
    "<details>\n",
    "    <summary> \n",
    "        <strong style = \"cursor: pointer; background-color: #000000F2; color: #FFFFFF; font-family: Franklin Gothic Heavy; padding: 8px; border-radius: 8px; display: inline-block;\"> \n",
    "            🖥️ CONVERTING MUSIC SIZE\n",
    "        </strong> \n",
    "        <br>\n",
    "    </summary>\n",
    "    <div style = \"padding: 8px; padding-left: 0px; text-align: justify;\"> \n",
    "The <strong>ConvertingMusicSize</strong> function is defined to convert the size of a music file given in bytes (<strong>Size</strong>) into a formatted string representation in megabytes (MB). The function first calculates the size in megabytes by dividing the size in bytes by the factor of 1024 twice (1024 * 1024) to get the size in megabytes. This value is then formatted as a floating-point number with two decimal places using the <strong>format()</strong> method, followed by appending the unit \"MB\" to denote megabytes. The function returns the formatted string representing the music file size in megabytes. This function assists in presenting music file sizes in a human-readable format.\n",
    "    </div>\n",
    "</details>"
   ]
  },
  {
   "cell_type": "code",
   "execution_count": 6,
   "id": "141736c4",
   "metadata": {},
   "outputs": [],
   "source": [
    "def ConvertingMusicSize(Size):\n",
    "    Megabytes = Size / (1024 * 1024)\n",
    "    return \"{:.2f} MB\".format(Megabytes)"
   ]
  },
  {
   "cell_type": "markdown",
   "id": "63353476",
   "metadata": {},
   "source": [
    "<details>\n",
    "    <summary> \n",
    "        <strong style = \"cursor: pointer; background-color: #000000F2; color: #FFFFFF; font-family: Franklin Gothic Heavy; padding: 8px; border-radius: 8px; display: inline-block;\"> \n",
    "            🖥️ PROCESSING MUSIC METADATA\n",
    "        </strong> \n",
    "        <br>\n",
    "    </summary>\n",
    "    <div style = \"padding: 8px; padding-left: 0px; text-align: justify;\"> \n",
    "The <strong>ProcessingMusicMetadata</strong> function is defined to process metadata of music files located within the directory specified by <strong>MusicFolderPath</strong>. The function initializes an empty dictionary named <strong>MusicMetadata</strong> with keys representing different metadata attributes such as music title, album, artist, length, and size. It also sets a flag named <strong>MP3Exist</strong> to track the existence of MP3 files in the directory.\n",
    "\n",
    "The function then iterates through each file in the directory using <strong>os.walk</strong>, checking if the file has a \".mp3\" extension. If an MP3 file is found, it extracts metadata using <strong>TinyTag.get()</strong> and retrieves attributes such as title, album, artist, duration, and file size. The duration is formatted into minutes and seconds using the <strong>FormattingMusicLength</strong> function, and the file size is converted to megabytes using the <strong>ConvertingMusicSize</strong> function. Additionally, it attempts to extract album art using the <strong>ExtractingMusicAlbumArts</strong> function.\n",
    "\n",
    "The metadata attributes are then appended to the <strong>MusicMetadata</strong> dictionary corresponding to their respective keys. If no MP3 files are found in the directory, an error message is displayed using the <strong>StylingPrintMessages</strong> function. Finally, the function returns the populated <strong>MusicMetadata</strong> dictionary containing metadata for all MP3 files found in the directory. This function facilitates the extraction and organization of metadata from music files for further processing or display.\n",
    "    </div>\n",
    "</details>"
   ]
  },
  {
   "cell_type": "code",
   "execution_count": 7,
   "id": "f5a905cd",
   "metadata": {},
   "outputs": [],
   "source": [
    "def ProcessingMusicMetadata(MusicFolderPath):\n",
    "    MusicMetadata = {\"MUSIC TITLE\": [], \"MUSIC ALBUM\": [], \"MUSIC ARTIST\": [], \"MUSIC LENGTH\": [], \"MUSIC SIZE\": []}\n",
    "    MP3Exist = False\n",
    "    for root, dirs, files in os.walk(MusicFolderPath):\n",
    "        for file in files:\n",
    "            if file.endswith(\".mp3\"):\n",
    "                MP3Exist = True\n",
    "                FilePath = os.path.join(root, file)\n",
    "                MusicFileTag = TinyTag.get(FilePath)\n",
    "                MusicTitle = os.path.splitext(os.path.basename(FilePath))[0]\n",
    "                MusicAlbum = MusicFileTag.album\n",
    "                MusicArtist = MusicFileTag.artist\n",
    "                MusicLength = FormattingMusicLength(MusicFileTag.duration)\n",
    "                MusicSize = ConvertingMusicSize(os.path.getsize(FilePath))\n",
    "                AlbumArtFile = ExtractingMusicAlbumArts(FilePath, MusicArtist)\n",
    "                MusicMetadata[\"MUSIC TITLE\"].append(MusicTitle)\n",
    "                MusicMetadata[\"MUSIC ALBUM\"].append(MusicAlbum)\n",
    "                MusicMetadata[\"MUSIC ARTIST\"].append(MusicArtist)\n",
    "                MusicMetadata[\"MUSIC LENGTH\"].append(MusicLength)\n",
    "                MusicMetadata[\"MUSIC SIZE\"].append(MusicSize)\n",
    "    if not MP3Exist:\n",
    "        StylingPrintMessages(\"ERROR\", f\"No MP3 files found in the selected directory. Ensure the folder path is correctly specified.\")\n",
    "    return MusicMetadata"
   ]
  },
  {
   "cell_type": "markdown",
   "id": "1aef3a91",
   "metadata": {},
   "source": [
    "<details>\n",
    "    <summary> \n",
    "        <strong style = \"cursor: pointer; background-color: #000000F2; color: #FFFFFF; font-family: Franklin Gothic Heavy; padding: 8px; border-radius: 8px; display: inline-block;\"> \n",
    "            🖥️ EXPORTING EXCEL FILE\n",
    "        </strong> \n",
    "        <br>\n",
    "    </summary>\n",
    "    <div style = \"padding: 8px; padding-left: 0px; text-align: justify;\"> \n",
    "The <strong>ExportingExcelFile</strong> function is defined to export music metadata stored in the <strong>MusicMetadata</strong> dictionary to an Excel file specified by <strong>ExcelFilePath</strong>. The function first converts the <strong>MusicMetadata</strong> dictionary into a pandas DataFrame named <strong>MusicDataFrame</strong> using <strong>pd.DataFrame()</strong>. Then, it utilizes the <strong>to_excel()</strong> method to export the DataFrame to an Excel file at the specified <strong>ExcelFilePath</strong>. The <strong>index</strong> parameter is set to <strong>False</strong> to prevent the DataFrame index from being included in the exported Excel file. If the export operation succeeds, a success message is displayed using the <strong>StylingPrintMessages</strong> function. However, if any exception occurs during the export process, a failure message is displayed along with the error details. This function facilitates the export of music metadata to an Excel file for further analysis or sharing.\n",
    "    </div>\n",
    "</details>"
   ]
  },
  {
   "cell_type": "code",
   "execution_count": 8,
   "id": "c188c008",
   "metadata": {},
   "outputs": [],
   "source": [
    "def ExportingExcelFile(ExcelFilePath, MusicMetadata):\n",
    "    try:\n",
    "        MusicDataFrame = pd.DataFrame(MusicMetadata)\n",
    "        MusicDataFrame.to_excel(ExcelFilePath, index = False)\n",
    "        StylingPrintMessages(\"SUCCESS\", f\"Exporting to XLSX file succeeded.\")\n",
    "    except Exception as e:\n",
    "        StylingPrintMessages(\"FAILURE\", f\"Exporting to XLSX file failed. {e}.\")"
   ]
  },
  {
   "cell_type": "markdown",
   "id": "1b7c313a",
   "metadata": {},
   "source": [
    "<details>\n",
    "    <summary> \n",
    "        <strong style = \"cursor: pointer; background-color: #000000F2; color: #FFFFFF; font-family: Franklin Gothic Heavy; padding: 8px; border-radius: 8px; display: inline-block;\"> \n",
    "            🖥️ EXECUTING DEFINED FUNCTIONS\n",
    "        </strong> \n",
    "        <br>\n",
    "    </summary>\n",
    "    <div style = \"padding: 8px; padding-left: 0px; text-align: justify;\"> \n",
    "For the final segment of the code, the defined functions are executed in a sequential manner to process music metadata and export it to an Excel file. First, the <strong>DefiningMusicFolderPath</strong> function is called to prompt the user to select a music folder path, and the returned value is stored in the variable <strong>MusicFolderPath</strong>. Then, an export folder path is defined using <strong>os.getcwd()</strong> to get the current working directory and <strong>os.path.join()</strong> to append the \"EXPORT FILES\" directory name. This path is stored in the variable <strong>ExportFolderPath</strong>.\n",
    "\n",
    "Next, the <strong>ExcelFilePath</strong> is constructed by joining the <strong>ExportFolderPath</strong> with the file name \"MusicMetadata.xlsx\", creating the path where the Excel file will be saved. The <strong>ProcessingMusicMetadata</strong> function is called with <strong>MusicFolderPath</strong> as an argument to extract and organize metadata from music files, and the resulting metadata is stored in the variable <strong>MusicMetadata</strong>.\n",
    "\n",
    "Finally, the <strong>ExportingExcelFile</strong> function is invoked with <strong>ExcelFilePath</strong> and <strong>MusicMetadata</strong> as arguments to export the music metadata to an Excel file. This sequential execution ensures that the music metadata is processed and exported efficiently, with clear feedback messages displayed during each step.\n",
    "    </div>\n",
    "</details>"
   ]
  },
  {
   "cell_type": "code",
   "execution_count": 9,
   "id": "88868ac0",
   "metadata": {},
   "outputs": [
    {
     "name": "stdout",
     "output_type": "stream",
     "text": [
      "\u001b[92m\u001b[1mSUCCESS:  \u001b[0mThe directory 'C:/Users/Norie Neil Acosta/Documents/Norie Neil Acosta/Music Soundscape' is selected as the Music\n",
      "          Folder Path.\n",
      "\u001b[92m\u001b[1mSUCCESS:  \u001b[0mExporting to XLSX file succeeded.\n"
     ]
    }
   ],
   "source": [
    "MusicFolderPath = DefiningMusicFolderPath()\n",
    "ExportFolderPath = os.path.join(os.getcwd(), \"EXPORT FILES\")\n",
    "ExcelFilePath = os.path.join(ExportFolderPath, \"MusicMetadata.xlsx\")\n",
    "MusicMetadata = ProcessingMusicMetadata(MusicFolderPath)\n",
    "ExportingExcelFile(ExcelFilePath, MusicMetadata)"
   ]
  },
  {
   "cell_type": "markdown",
   "id": "307bdc30",
   "metadata": {},
   "source": [
    "<!-- PYTHON PROJECT FOOTER -->\n",
    "<img src = \"IMPORT FILES/PROJECTFooter.png\" alt = \"Project Footer\" style = \"display: block; margin: 0 auto; max-width: 100%; width: 100%\">"
   ]
  }
 ],
 "metadata": {
  "kernelspec": {
   "display_name": "Python 3 (ipykernel)",
   "language": "python",
   "name": "python3"
  },
  "language_info": {
   "codemirror_mode": {
    "name": "ipython",
    "version": 3
   },
   "file_extension": ".py",
   "mimetype": "text/x-python",
   "name": "python",
   "nbconvert_exporter": "python",
   "pygments_lexer": "ipython3",
   "version": "3.9.12"
  }
 },
 "nbformat": 4,
 "nbformat_minor": 5
}
